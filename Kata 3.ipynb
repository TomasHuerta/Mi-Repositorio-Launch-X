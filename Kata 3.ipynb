{
 "cells": [
  {
   "cell_type": "code",
   "execution_count": 11,
   "metadata": {},
   "outputs": [
    {
     "name": "stdout",
     "output_type": "stream",
     "text": [
      "¡Un asteroide se acerca a la Tierra con una gran velociad! Esto no es un simulacro.\n"
     ]
    }
   ],
   "source": [
    "asteroide = 49\n",
    "if asteroide >= 25:\n",
    "    print('¡Un asteroide se acerca a la Tierra con una gran velociad! Esto no es un simulacro.')\n",
    "else:\n",
    "    print ('Tranquilos, un asteroide NO se acerca a la Tierra con gran velocidad. Puede seguir viviendo.')"
   ]
  },
  {
   "cell_type": "code",
   "execution_count": 5,
   "metadata": {},
   "outputs": [
    {
     "name": "stdout",
     "output_type": "stream",
     "text": [
      "No miren el cielo, no hay nada. Aquí termina mi reporte Joaquin.\n"
     ]
    }
   ],
   "source": [
    "Asteroide=19\n",
    "if Asteroide>20:\n",
    "    print('Miren el cielo, hay un asteroide que está dejando un rayo de luz')\n",
    "elif Asteroide==20:\n",
    "    print('Miren el cielo , hay un asteroide que está dejando un rayo de luz')\n",
    "else:\n",
    "    print('No miren el cielo, no hay nada. Aquí termina mi reporte Joaquin.')"
   ]
  },
  {
   "cell_type": "code",
   "execution_count": 7,
   "metadata": {},
   "outputs": [
    {
     "name": "stdout",
     "output_type": "stream",
     "text": [
      "¡Hay una luz mágica en el cielo!\n"
     ]
    }
   ],
   "source": [
    "velocidad_del_asteroide=25\n",
    "tamano_asteroide=40\n",
    "if velocidad_asteroide>25 and tamano_asteroide>25:\n",
    "    print('¡Un asteroide muy peligroso viene hacia la Tierra!')\n",
    "elif velocidad_asteroide >= 20:\n",
    "    print('¡Hay una luz mágica en el cielo!')\n",
    "elif tamano_asteroide < 25:\n",
    "    print('No hay nada :)')\n",
    "else:\n",
    "    print('No hay nada :)')"
   ]
  }
 ],
 "metadata": {
  "interpreter": {
   "hash": "2be5faf79681da6f2a61fdfdd5405d65d042280f7fba6178067603e3a2925119"
  },
  "kernelspec": {
   "display_name": "Python 3.10.0 64-bit",
   "language": "python",
   "name": "python3"
  },
  "language_info": {
   "codemirror_mode": {
    "name": "ipython",
    "version": 3
   },
   "file_extension": ".py",
   "mimetype": "text/x-python",
   "name": "python",
   "nbconvert_exporter": "python",
   "pygments_lexer": "ipython3",
   "version": "3.10.0"
  },
  "orig_nbformat": 4
 },
 "nbformat": 4,
 "nbformat_minor": 2
}
